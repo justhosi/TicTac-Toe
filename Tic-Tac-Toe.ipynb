{
 "cells": [
  {
   "cell_type": "code",
   "execution_count": 16,
   "metadata": {},
   "outputs": [],
   "source": [
    "# TicTac-Toe by JustHosi\n",
    "# Copyright 2018"
   ]
  },
  {
   "cell_type": "code",
   "execution_count": 29,
   "metadata": {},
   "outputs": [],
   "source": [
    "import random\n",
    "# This function creats the board shape.\n",
    "from IPython.display import clear_output"
   ]
  },
  {
   "cell_type": "code",
   "execution_count": 18,
   "metadata": {},
   "outputs": [],
   "source": [
    "def display_bord(board):\n",
    "    clear_output()\n",
    "    print(board[1] + '|' + board[2] + '|' + board[3])\n",
    "    print('-|-|-')\n",
    "    print(board[4] + '|' + board[5] + '|' + board[6])\n",
    "    print('-|-|-')\n",
    "    print(board[7] + '|' + board[8] + '|' + board[9])"
   ]
  },
  {
   "cell_type": "code",
   "execution_count": 19,
   "metadata": {},
   "outputs": [],
   "source": [
    "def display_sample_bord(board):\n",
    "    print(board[1] + '|' + board[2] + '|' + board[3])\n",
    "    print('-|-|-')\n",
    "    print(board[4] + '|' + board[5] + '|' + board[6])\n",
    "    print('-|-|-')\n",
    "    print(board[7] + '|' + board[8] + '|' + board[9])"
   ]
  },
  {
   "cell_type": "code",
   "execution_count": 20,
   "metadata": {},
   "outputs": [],
   "source": [
    "# This function picks sides between X or O.\n",
    "def player_input():\n",
    "    while True:\n",
    "        player_1 = input('Player 1, Pleae select X or O\\n')\n",
    "        if player_1.upper() == 'X' or player_1.upper() == 'O':\n",
    "            break\n",
    "    player_1 = player_1.upper()\n",
    "    if player_1 == 'X':\n",
    "        player_2 = 'O'\n",
    "    else:\n",
    "        player_2 = 'X'\n",
    "    return player_1, player_2"
   ]
  },
  {
   "cell_type": "code",
   "execution_count": 21,
   "metadata": {},
   "outputs": [],
   "source": [
    "# Put X or O in board position\n",
    "def place_marker(board, marker, position):\n",
    "    board[position] = marker"
   ]
  },
  {
   "cell_type": "code",
   "execution_count": 22,
   "metadata": {},
   "outputs": [],
   "source": [
    "# This function checks if someone won the game\n",
    "def win_check(board, mark):\n",
    "            # Check if rows are X or O\n",
    "    return ((board[1] == board[2] == board[3] == mark) or\n",
    "            (board[4] == board[5] == board[6] == mark) or\n",
    "            (board[7] == board[8] == board[9] == mark) or\n",
    "            # check if colums are X or O\n",
    "            (board[1] == board[4] == board[7] == mark) or\n",
    "            (board[2] == board[5] == board[8] == mark) or\n",
    "            (board[3] == board[6] == board[9] == mark) or\n",
    "            # chek if diagnals are X or O\n",
    "            (board[1] == board[5] == board[9] == mark) or\n",
    "            (board[3] == board[5] == board[7] == mark))"
   ]
  },
  {
   "cell_type": "code",
   "execution_count": 23,
   "metadata": {},
   "outputs": [],
   "source": [
    "# This indicates who's going to start first\n",
    "def choose_first():\n",
    "    first = random.randint(1, 2)\n",
    "    print('Player', first, 'Starts the game:\\n')\n",
    "    return first"
   ]
  },
  {
   "cell_type": "code",
   "execution_count": 24,
   "metadata": {},
   "outputs": [],
   "source": [
    "# this checks if a space in the board is free availble\n",
    "def space_check(board, position):\n",
    "    return board[position] == ' '"
   ]
  },
  {
   "cell_type": "code",
   "execution_count": 25,
   "metadata": {},
   "outputs": [],
   "source": [
    "# This checks if board is complete\n",
    "def full_board_check(board):\n",
    "    for i in range(1, 10):\n",
    "        if board[i] == ' ':\n",
    "            return False\n",
    "    else:\n",
    "        return True"
   ]
  },
  {
   "cell_type": "code",
   "execution_count": 26,
   "metadata": {},
   "outputs": [],
   "source": [
    "# Ask for players next position wants to play\n",
    "def player_choice(board):\n",
    "    position = 0\n",
    "\n",
    "    while position not in [1, 2, 3, 4, 5, 6, 7, 8, 9] or not space_check(board, position):\n",
    "        position = int(input('Choose your next position: (1-9) '))\n",
    "    return position"
   ]
  },
  {
   "cell_type": "code",
   "execution_count": 27,
   "metadata": {},
   "outputs": [],
   "source": [
    "def reply():\n",
    "    continue_exit = input('For reply press \"r\", for exit press \"e\"\\n')\n",
    "    return continue_exit.lower()"
   ]
  },
  {
   "cell_type": "code",
   "execution_count": 30,
   "metadata": {},
   "outputs": [
    {
     "name": "stdout",
     "output_type": "stream",
     "text": [
      "O|X|O\n",
      "-|-|-\n",
      " |X| \n",
      "-|-|-\n",
      "O|X| \n",
      "Player 1 won!\n",
      "For reply press \"r\", for exit press \"e\"\n",
      "e\n",
      "Thank you for playing this game! Hope to see you again\n"
     ]
    }
   ],
   "source": [
    "while True:\n",
    "    print('Welcome to JustHosi Tic-Tac-Toe')\n",
    "\n",
    "    run = True\n",
    "    theBoard = [' ']*10\n",
    "    sample_board = ['0', '1', '2', '3', '4', '5', '6', '7', '8', '9']\n",
    "    board = [' ']*10\n",
    "    player1_marker, player2_marker = player_input()\n",
    "    if choose_first() == 1:\n",
    "        turn = 1\n",
    "    else:\n",
    "        turn = 2\n",
    "\n",
    "    while run:\n",
    "        print('This is sample board.\\nYou should follow this positions indicated by the numbers')\n",
    "        display_sample_bord(sample_board)\n",
    "        if turn == 1:\n",
    "            print('Player 1 turn:')\n",
    "            position = player_choice(theBoard)\n",
    "            place_marker(theBoard, player1_marker, position)\n",
    "            display_bord(theBoard)\n",
    "            if win_check(theBoard, player1_marker):\n",
    "                print('Player 1 won!')\n",
    "                run = False\n",
    "            elif full_board_check(theBoard):\n",
    "                print('Tie all')\n",
    "                run = False\n",
    "            else:\n",
    "                turn = 2\n",
    "        else:\n",
    "            print('Player 2 turn:')\n",
    "            position = player_choice(theBoard)\n",
    "            place_marker(theBoard, player2_marker, position)\n",
    "            display_bord(theBoard)\n",
    "            if win_check(theBoard, player2_marker):\n",
    "                print('Player 2 won!')\n",
    "                run = False\n",
    "            elif full_board_check(theBoard):\n",
    "                print('Tie all')\n",
    "                run = False\n",
    "            else:\n",
    "                turn = 1\n",
    "    if reply() != 'r':\n",
    "        print('Thank you for playing this game! Hope to see you again')\n",
    "        break"
   ]
  },
  {
   "cell_type": "code",
   "execution_count": null,
   "metadata": {},
   "outputs": [],
   "source": []
  }
 ],
 "metadata": {
  "kernelspec": {
   "display_name": "Python 3",
   "language": "python",
   "name": "python3"
  },
  "language_info": {
   "codemirror_mode": {
    "name": "ipython",
    "version": 3
   },
   "file_extension": ".py",
   "mimetype": "text/x-python",
   "name": "python",
   "nbconvert_exporter": "python",
   "pygments_lexer": "ipython3",
   "version": "3.7.0"
  }
 },
 "nbformat": 4,
 "nbformat_minor": 2
}
